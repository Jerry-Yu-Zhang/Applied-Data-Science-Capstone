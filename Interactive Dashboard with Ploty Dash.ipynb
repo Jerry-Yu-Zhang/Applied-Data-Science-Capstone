{
    "cells": [
        {
            "cell_type": "code",
            "execution_count": 2,
            "metadata": {},
            "outputs": [
                {
                    "name": "stdout",
                    "output_type": "stream",
                    "text": "Collecting dash\n  Downloading dash-2.2.0-py3-none-any.whl (8.5 MB)\n\u001b[K     |\u2588\u2588\u2588\u2588\u2588\u2588\u2588\u2588\u2588\u2588\u2588\u2588\u2588\u2588\u2588\u2588\u2588\u2588\u2588\u2588\u2588\u2588\u2588\u2588\u2588\u2588\u2588\u2588\u2588\u2588\u2588\u2588| 8.5 MB 12.4 MB/s eta 0:00:01\n\u001b[?25hCollecting dash-html-components==2.0.0\n  Downloading dash_html_components-2.0.0.tar.gz (3.8 kB)\nCollecting dash-core-components==2.0.0\n  Downloading dash_core_components-2.0.0.tar.gz (3.4 kB)\nCollecting dash-table==5.0.0\n  Downloading dash_table-5.0.0.tar.gz (3.4 kB)\nCollecting Flask>=1.0.4\n  Downloading Flask-2.0.3-py3-none-any.whl (95 kB)\n\u001b[K     |\u2588\u2588\u2588\u2588\u2588\u2588\u2588\u2588\u2588\u2588\u2588\u2588\u2588\u2588\u2588\u2588\u2588\u2588\u2588\u2588\u2588\u2588\u2588\u2588\u2588\u2588\u2588\u2588\u2588\u2588\u2588\u2588| 95 kB 11.1 MB/s eta 0:00:01\n\u001b[?25hRequirement already satisfied: plotly>=5.0.0 in /opt/conda/envs/Python-3.9/lib/python3.9/site-packages (from dash) (5.1.0)\nCollecting flask-compress\n  Downloading Flask_Compress-1.10.1-py3-none-any.whl (7.9 kB)\nRequirement already satisfied: Jinja2>=3.0 in /opt/conda/envs/Python-3.9/lib/python3.9/site-packages (from Flask>=1.0.4->dash) (3.0.2)\nCollecting itsdangerous>=2.0\n  Downloading itsdangerous-2.1.0-py3-none-any.whl (15 kB)\nRequirement already satisfied: Werkzeug>=2.0 in /opt/conda/envs/Python-3.9/lib/python3.9/site-packages (from Flask>=1.0.4->dash) (2.0.2)\nRequirement already satisfied: click>=7.1.2 in /opt/conda/envs/Python-3.9/lib/python3.9/site-packages (from Flask>=1.0.4->dash) (8.0.3)\nRequirement already satisfied: MarkupSafe>=2.0 in /opt/conda/envs/Python-3.9/lib/python3.9/site-packages (from Jinja2>=3.0->Flask>=1.0.4->dash) (2.0.1)\nRequirement already satisfied: six in /opt/conda/envs/Python-3.9/lib/python3.9/site-packages (from plotly>=5.0.0->dash) (1.15.0)\nRequirement already satisfied: tenacity>=6.2.0 in /opt/conda/envs/Python-3.9/lib/python3.9/site-packages (from plotly>=5.0.0->dash) (8.0.1)\nCollecting brotli\n  Downloading Brotli-1.0.9-cp39-cp39-manylinux1_x86_64.whl (357 kB)\n\u001b[K     |\u2588\u2588\u2588\u2588\u2588\u2588\u2588\u2588\u2588\u2588\u2588\u2588\u2588\u2588\u2588\u2588\u2588\u2588\u2588\u2588\u2588\u2588\u2588\u2588\u2588\u2588\u2588\u2588\u2588\u2588\u2588\u2588| 357 kB 41.0 MB/s eta 0:00:01\n\u001b[?25hBuilding wheels for collected packages: dash-core-components, dash-html-components, dash-table\n  Building wheel for dash-core-components (setup.py) ... \u001b[?25ldone\n\u001b[?25h  Created wheel for dash-core-components: filename=dash_core_components-2.0.0-py3-none-any.whl size=3821 sha256=425853a59aac97d3d6a45b2a221eccd82aba9d9b7d53d9b1e7624a3472609b21\n  Stored in directory: /tmp/wsuser/.cache/pip/wheels/2b/37/e9/4b5a8c878a47590de4dcf6bdc5a158788a1c17bea578a3ab60\n  Building wheel for dash-html-components (setup.py) ... \u001b[?25ldone\n\u001b[?25h  Created wheel for dash-html-components: filename=dash_html_components-2.0.0-py3-none-any.whl size=4089 sha256=6295a1e810a33dfc9584d7299da6d40320b3fbd06ec1ed752e4cf8f234341c21\n  Stored in directory: /tmp/wsuser/.cache/pip/wheels/4d/22/3e/d58dc9820aeffc7b7193d04a63b08f585eef4a1ce836d69141\n  Building wheel for dash-table (setup.py) ... \u001b[?25ldone\n\u001b[?25h  Created wheel for dash-table: filename=dash_table-5.0.0-py3-none-any.whl size=3911 sha256=01301e120ba9b9ca21186bd1a0a91f81a9155b1f8f09ed4e6bb42fc946a53138\n  Stored in directory: /tmp/wsuser/.cache/pip/wheels/1f/91/7e/015c42538da07aeb06576caca14da7c7416e9275a51fc85811\nSuccessfully built dash-core-components dash-html-components dash-table\nInstalling collected packages: itsdangerous, Flask, brotli, flask-compress, dash-table, dash-html-components, dash-core-components, dash\nSuccessfully installed Flask-2.0.3 brotli-1.0.9 dash-2.2.0 dash-core-components-2.0.0 dash-html-components-2.0.0 dash-table-5.0.0 flask-compress-1.10.1 itsdangerous-2.1.0\n"
                }
            ],
            "source": "!pip install dash"
        },
        {
            "cell_type": "code",
            "execution_count": 3,
            "metadata": {},
            "outputs": [
                {
                    "name": "stdout",
                    "output_type": "stream",
                    "text": "Requirement already satisfied: wget in /opt/conda/envs/Python-3.9/lib/python3.9/site-packages (3.2)\r\n"
                }
            ],
            "source": "!pip install wget"
        },
        {
            "cell_type": "code",
            "execution_count": 5,
            "metadata": {},
            "outputs": [
                {
                    "data": {
                        "text/plain": "'spacex_launch_dash.csv'"
                    },
                    "execution_count": 5,
                    "metadata": {},
                    "output_type": "execute_result"
                }
            ],
            "source": "import wget\nwget.download('https://cf-courses-data.s3.us.cloud-object-storage.appdomain.cloud/IBM-DS0321EN-SkillsNetwork/datasets/spacex_launch_dash.csv')"
        },
        {
            "cell_type": "code",
            "execution_count": 6,
            "metadata": {},
            "outputs": [
                {
                    "name": "stdout",
                    "output_type": "stream",
                    "text": "Collecting jupyter_dash\n  Downloading jupyter_dash-0.4.1-py3-none-any.whl (17 kB)\nCollecting ansi2html\n  Downloading ansi2html-1.7.0-py3-none-any.whl (15 kB)\nRequirement already satisfied: flask in /opt/conda/envs/Python-3.9/lib/python3.9/site-packages (from jupyter_dash) (2.0.3)\nRequirement already satisfied: ipykernel in /opt/conda/envs/Python-3.9/lib/python3.9/site-packages (from jupyter_dash) (6.4.1)\nRequirement already satisfied: ipython in /opt/conda/envs/Python-3.9/lib/python3.9/site-packages (from jupyter_dash) (7.29.0)\nRequirement already satisfied: dash in /opt/conda/envs/Python-3.9/lib/python3.9/site-packages (from jupyter_dash) (2.2.0)\nCollecting retrying\n  Downloading retrying-1.3.3.tar.gz (10 kB)\nRequirement already satisfied: requests in /opt/conda/envs/Python-3.9/lib/python3.9/site-packages (from jupyter_dash) (2.26.0)\nRequirement already satisfied: dash-core-components==2.0.0 in /opt/conda/envs/Python-3.9/lib/python3.9/site-packages (from dash->jupyter_dash) (2.0.0)\nRequirement already satisfied: dash-table==5.0.0 in /opt/conda/envs/Python-3.9/lib/python3.9/site-packages (from dash->jupyter_dash) (5.0.0)\nRequirement already satisfied: flask-compress in /opt/conda/envs/Python-3.9/lib/python3.9/site-packages (from dash->jupyter_dash) (1.10.1)\nRequirement already satisfied: plotly>=5.0.0 in /opt/conda/envs/Python-3.9/lib/python3.9/site-packages (from dash->jupyter_dash) (5.1.0)\nRequirement already satisfied: dash-html-components==2.0.0 in /opt/conda/envs/Python-3.9/lib/python3.9/site-packages (from dash->jupyter_dash) (2.0.0)\nRequirement already satisfied: Werkzeug>=2.0 in /opt/conda/envs/Python-3.9/lib/python3.9/site-packages (from flask->jupyter_dash) (2.0.2)\nRequirement already satisfied: Jinja2>=3.0 in /opt/conda/envs/Python-3.9/lib/python3.9/site-packages (from flask->jupyter_dash) (3.0.2)\nRequirement already satisfied: itsdangerous>=2.0 in /opt/conda/envs/Python-3.9/lib/python3.9/site-packages (from flask->jupyter_dash) (2.1.0)\nRequirement already satisfied: click>=7.1.2 in /opt/conda/envs/Python-3.9/lib/python3.9/site-packages (from flask->jupyter_dash) (8.0.3)\nRequirement already satisfied: MarkupSafe>=2.0 in /opt/conda/envs/Python-3.9/lib/python3.9/site-packages (from Jinja2>=3.0->flask->jupyter_dash) (2.0.1)\nRequirement already satisfied: tenacity>=6.2.0 in /opt/conda/envs/Python-3.9/lib/python3.9/site-packages (from plotly>=5.0.0->dash->jupyter_dash) (8.0.1)\nRequirement already satisfied: six in /opt/conda/envs/Python-3.9/lib/python3.9/site-packages (from plotly>=5.0.0->dash->jupyter_dash) (1.15.0)\nRequirement already satisfied: brotli in /opt/conda/envs/Python-3.9/lib/python3.9/site-packages (from flask-compress->dash->jupyter_dash) (1.0.9)\nRequirement already satisfied: ipython-genutils in /opt/conda/envs/Python-3.9/lib/python3.9/site-packages (from ipykernel->jupyter_dash) (0.2.0)\nRequirement already satisfied: traitlets<6.0,>=4.1.0 in /opt/conda/envs/Python-3.9/lib/python3.9/site-packages (from ipykernel->jupyter_dash) (5.1.1)\nRequirement already satisfied: tornado<7.0,>=4.2 in /opt/conda/envs/Python-3.9/lib/python3.9/site-packages (from ipykernel->jupyter_dash) (6.1)\nRequirement already satisfied: matplotlib-inline<0.2.0,>=0.1.0 in /opt/conda/envs/Python-3.9/lib/python3.9/site-packages (from ipykernel->jupyter_dash) (0.1.2)\nRequirement already satisfied: debugpy<2.0,>=1.0.0 in /opt/conda/envs/Python-3.9/lib/python3.9/site-packages (from ipykernel->jupyter_dash) (1.5.1)\nRequirement already satisfied: jupyter-client<8.0 in /opt/conda/envs/Python-3.9/lib/python3.9/site-packages (from ipykernel->jupyter_dash) (7.0.6)\nRequirement already satisfied: pexpect>4.3 in /opt/conda/envs/Python-3.9/lib/python3.9/site-packages (from ipython->jupyter_dash) (4.8.0)\nRequirement already satisfied: backcall in /opt/conda/envs/Python-3.9/lib/python3.9/site-packages (from ipython->jupyter_dash) (0.2.0)\nRequirement already satisfied: jedi>=0.16 in /opt/conda/envs/Python-3.9/lib/python3.9/site-packages (from ipython->jupyter_dash) (0.18.0)\nRequirement already satisfied: pickleshare in /opt/conda/envs/Python-3.9/lib/python3.9/site-packages (from ipython->jupyter_dash) (0.7.5)\nRequirement already satisfied: prompt-toolkit!=3.0.0,!=3.0.1,<3.1.0,>=2.0.0 in /opt/conda/envs/Python-3.9/lib/python3.9/site-packages (from ipython->jupyter_dash) (3.0.20)\nRequirement already satisfied: setuptools>=18.5 in /opt/conda/envs/Python-3.9/lib/python3.9/site-packages (from ipython->jupyter_dash) (58.0.4)\nRequirement already satisfied: decorator in /opt/conda/envs/Python-3.9/lib/python3.9/site-packages (from ipython->jupyter_dash) (5.1.0)\nRequirement already satisfied: pygments in /opt/conda/envs/Python-3.9/lib/python3.9/site-packages (from ipython->jupyter_dash) (2.10.0)\nRequirement already satisfied: parso<0.9.0,>=0.8.0 in /opt/conda/envs/Python-3.9/lib/python3.9/site-packages (from jedi>=0.16->ipython->jupyter_dash) (0.8.3)\nRequirement already satisfied: python-dateutil>=2.1 in /opt/conda/envs/Python-3.9/lib/python3.9/site-packages (from jupyter-client<8.0->ipykernel->jupyter_dash) (2.8.2)\nRequirement already satisfied: nest-asyncio>=1.5 in /opt/conda/envs/Python-3.9/lib/python3.9/site-packages (from jupyter-client<8.0->ipykernel->jupyter_dash) (1.5.1)\nRequirement already satisfied: jupyter-core>=4.6.0 in /opt/conda/envs/Python-3.9/lib/python3.9/site-packages (from jupyter-client<8.0->ipykernel->jupyter_dash) (4.9.1)\nRequirement already satisfied: pyzmq>=13 in /opt/conda/envs/Python-3.9/lib/python3.9/site-packages (from jupyter-client<8.0->ipykernel->jupyter_dash) (22.3.0)\nRequirement already satisfied: entrypoints in /opt/conda/envs/Python-3.9/lib/python3.9/site-packages (from jupyter-client<8.0->ipykernel->jupyter_dash) (0.3)\nRequirement already satisfied: ptyprocess>=0.5 in /opt/conda/envs/Python-3.9/lib/python3.9/site-packages (from pexpect>4.3->ipython->jupyter_dash) (0.7.0)\nRequirement already satisfied: wcwidth in /opt/conda/envs/Python-3.9/lib/python3.9/site-packages (from prompt-toolkit!=3.0.0,!=3.0.1,<3.1.0,>=2.0.0->ipython->jupyter_dash) (0.2.5)\nRequirement already satisfied: charset-normalizer~=2.0.0 in /opt/conda/envs/Python-3.9/lib/python3.9/site-packages (from requests->jupyter_dash) (2.0.4)\nRequirement already satisfied: certifi>=2017.4.17 in /opt/conda/envs/Python-3.9/lib/python3.9/site-packages (from requests->jupyter_dash) (2021.10.8)\nRequirement already satisfied: urllib3<1.27,>=1.21.1 in /opt/conda/envs/Python-3.9/lib/python3.9/site-packages (from requests->jupyter_dash) (1.26.7)\nRequirement already satisfied: idna<4,>=2.5 in /opt/conda/envs/Python-3.9/lib/python3.9/site-packages (from requests->jupyter_dash) (3.3)\nBuilding wheels for collected packages: retrying\n  Building wheel for retrying (setup.py) ... \u001b[?25ldone\n\u001b[?25h  Created wheel for retrying: filename=retrying-1.3.3-py3-none-any.whl size=11448 sha256=603aa6890d8af52524ffd9754d7c54cc9b0520da3800253753d0bd39268dd5ca\n  Stored in directory: /tmp/wsuser/.cache/pip/wheels/ce/18/7f/e9527e3e66db1456194ac7f61eb3211068c409edceecff2d31\nSuccessfully built retrying\nInstalling collected packages: retrying, ansi2html, jupyter-dash\nSuccessfully installed ansi2html-1.7.0 jupyter-dash-0.4.1 retrying-1.3.3\n"
                }
            ],
            "source": "!pip install jupyter_dash"
        },
        {
            "cell_type": "code",
            "execution_count": 7,
            "metadata": {},
            "outputs": [
                {
                    "name": "stdout",
                    "output_type": "stream",
                    "text": "Requirement already satisfied: typing-extensions in /opt/conda/envs/Python-3.9/lib/python3.9/site-packages (3.7.4.3)\r\n"
                }
            ],
            "source": "!pip install typing-extensions"
        },
        {
            "cell_type": "code",
            "execution_count": null,
            "metadata": {},
            "outputs": [
                {
                    "name": "stdout",
                    "output_type": "stream",
                    "text": "Dash is running on http://127.0.0.1:8050/\n\n * Serving Flask app '__main__' (lazy loading)\n"
                },
                {
                    "name": "stderr",
                    "output_type": "stream",
                    "text": "/tmp/wsuser/ipykernel_609/830389252.py:5: UserWarning: \nThe dash_html_components package is deprecated. Please replace\n`import dash_html_components as html` with `from dash import html`\n  import dash_html_components as html\n/tmp/wsuser/ipykernel_609/830389252.py:6: UserWarning: \nThe dash_core_components package is deprecated. Please replace\n`import dash_core_components as dcc` with `from dash import dcc`\n  import dash_core_components as dcc\n"
                },
                {
                    "name": "stdout",
                    "output_type": "stream",
                    "text": " * Environment: production\n\u001b[31m   WARNING: This is a development server. Do not use it in a production deployment.\u001b[0m\n\u001b[2m   Use a production WSGI server instead.\u001b[0m\n * Debug mode: off\n"
                },
                {
                    "name": "stderr",
                    "output_type": "stream",
                    "text": " * Running on http://127.0.0.1:8050/ (Press CTRL+C to quit)\n"
                }
            ],
            "source": "# Import required libraries\nimport pandas as pd\nfrom jupyter_dash import JupyterDash\nimport dash\nimport dash_html_components as html\nimport dash_core_components as dcc\nfrom dash.dependencies import Input, Output\nimport plotly.express as px\n\n# Read the airline data into pandas dataframe\nspacex_df = pd.read_csv(\"spacex_launch_dash.csv\")\nmax_payload = spacex_df['Payload Mass (kg)'].max()\nmin_payload = spacex_df['Payload Mass (kg)'].min()\n\n# Create a dash application\napp = dash.Dash(__name__)\n\n# Create an app layout\napp.layout = html.Div(children=[html.H1('SpaceX Launch Records Dashboard',\n                                        style={'textAlign': 'center', 'color': '#503D36',\n                                               'font-size': 40}),\n                                # TASK 1: Add a dropdown list to enable Launch Site selection\n                                # The default select value is for ALL sites\n                                # dcc.Dropdown(id='site-dropdown',...)\n                                dcc.Dropdown(id='site-dropdown',\n                                             options=[{'label': 'All Sites', 'value': 'ALL'},\n                                                      {'label': 'CCAFS LC-40', 'value': 'CCAFS LC-40'},\n                                                      {'label': 'VAFB SLC-4E', 'value': 'VAFB SLC-4E'},\n                                                      {'label': 'KSC LC-39A', 'value': 'KSC LC-39A'},\n                                                      {'label': 'CCAFS SLC-40', 'value': 'CCAFS SLC-40'}],\n                                             value='ALL',\n                                             placeholder='Select a Launch Site here',\n                                             searchable=True),\n                                html.Br(),\n\n                                # TASK 2: Add a pie chart to show the total successful launches count for all sites\n                                # If a specific launch site was selected, show the Success vs. Failed counts for the site\n                                html.Div(dcc.Graph(id='success-pie-chart')),\n                                html.Br(),\n\n                                html.P(\"Payload range (Kg):\"),\n                                # TASK 3: Add a slider to select payload range\n                                #dcc.RangeSlider(id='payload-slider',...)\n                                dcc.RangeSlider(id='payload-slider',\n                                                min=0, max=10000, step=1000,\n                                                marks={0:'0',\n                                                       2500:'2500',\n                                                       5000:'5000',\n                                                       7500:'7500',\n                                                       10000:'10000'},\n                                                value=[min_payload, max_payload]),\n\n                                # TASK 4: Add a scatter chart to show the correlation between payload and launch success\n                                html.Div(dcc.Graph(id='success-payload-scatter-chart')),\n                                ])\n\n# TASK 2:\n# Add a callback function for `site-dropdown` as input, `success-pie-chart` as output\n@app.callback(Output(component_id='success-pie-chart', component_property='figure'),\n              Input(component_id='site-dropdown', component_property='value'))\ndef get_pie_chart(entered_site):\n    filtered_df = spacex_df\n    if entered_site == 'ALL':\n        fig = px.pie(spacex_df, values='class', \n        names='Launch Site', \n        title='Total Success Launches By Site')\n        return fig\n    else:\n        filtered_df = spacex_df[spacex_df['Launch Site']==entered_site].groupby(['Launch Site', 'class']).size().reset_index(name='class count')\n        fig=px.pie(filtered_df, values='class count',\n        names='class', \n        title='Total Success Launches for site {}'.format(entered_site))\n        return fig\n# TASK 4:\n# Add a callback function for `site-dropdown` and `payload-slider` as inputs, `success-payload-scatter-chart` as output\n@app.callback(Output(component_id='success-payload-scatter-chart', component_property='figure'),\n              [Input(component_id='site-dropdown', component_property='value'),\n               Input(component_id='payload-slider', component_property='value')])\ndef get_scatter_chart(entered_site,entered_payloads):\n    sel_payload_min = entered_payloads[0]\n    sel_payload_max = entered_payloads[1]\n    filtered_df = spacex_df[(spacex_df['Payload Mass (kg)'] >= sel_payload_min) & (spacex_df['Payload Mass (kg)'] <= sel_payload_max)]\n    if entered_site == 'ALL':\n        fig = px.scatter(filtered_df, x='Payload Mass (kg)',y='class',\n        color='Booster Version Category', \n        title='Correlation between Payload and Success for all Sites')\n        return fig\n    else:\n        filtered_dfs = filtered_df[filtered_df['Launch Site']==entered_site]\n        fig=px.scatter(filtered_dfs, x='Payload Mass (kg)',y='class', \n        color='Booster Version Category',\n        title=f'Correlation between Payload and Success for site {entered_site}')\n        return fig\n\n# Run the app\nif __name__ == '__main__':\n    app.run_server()"
        }
    ],
    "metadata": {
        "kernelspec": {
            "display_name": "Python 3.9",
            "language": "python",
            "name": "python3"
        },
        "language_info": {
            "codemirror_mode": {
                "name": "ipython",
                "version": 3
            },
            "file_extension": ".py",
            "mimetype": "text/x-python",
            "name": "python",
            "nbconvert_exporter": "python",
            "pygments_lexer": "ipython3",
            "version": "3.9.7"
        }
    },
    "nbformat": 4,
    "nbformat_minor": 1
}